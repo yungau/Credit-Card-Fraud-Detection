{
 "cells": [
  {
   "cell_type": "markdown",
   "metadata": {
    "colab_type": "text",
    "id": "xumccGxURmUa"
   },
   "source": [
    "# Credit Card Fraud Detection\n",
    "## Anonymized credit card transactions labeled as fraudulent or genuine"
   ]
  },
  {
   "cell_type": "markdown",
   "metadata": {
    "colab_type": "text",
    "id": "E_i8bxr7RmUg"
   },
   "source": [
    "### Context\n",
    "\n",
    "It is important that credit card companies are able to recognize fraudulent credit card transactions so that customers are not charged for items that they did not purchase.\n",
    "\n",
    "\n",
    "### Dataset Description\n",
    "\n",
    "The datasets contains transactions made by credit cards in September 2013 by european cardholders. This dataset presents transactions that occurred in two days, where we have 492 frauds out of 284,807 transactions. The dataset is highly unbalanced, the positive class (frauds) account for 0.172% of all transactions.\n",
    "\n",
    "It contains only numerical input variables which are the result of a PCA transformation. Unfortunately, due to confidentiality issues, we cannot provide the original features and more background information about the data. Features V1, V2, ... V28 are the principal components obtained with PCA, the only features which have not been transformed with PCA are 'Time' and 'Amount'. Feature 'Time' contains the seconds elapsed between each transaction and the first transaction in the dataset. The feature 'Amount' is the transaction Amount, this feature can be used for example-dependant cost-senstive learning. Feature 'Class' is the response variable and it takes value 1 in case of fraud and 0 otherwise.\n",
    "\n",
    "[Souce of dataset and more details ](https://www.kaggle.com/mlg-ulb/creditcardfraud)"
   ]
  },
  {
   "cell_type": "code",
   "execution_count": 1,
   "metadata": {
    "colab": {},
    "colab_type": "code",
    "id": "izZGTC0SRmUz"
   },
   "outputs": [],
   "source": [
    "import pandas as pd\n",
    "import torch\n",
    "import torch.nn as nn\n",
    "import torch.utils.data as utils_data\n",
    "from sklearn.model_selection import train_test_split\n",
    "from sklearn.preprocessing import StandardScaler\n",
    "from sklearn.utils import shuffle\n",
    "from sklearn.metrics import (confusion_matrix, \n",
    "                             f1_score, \n",
    "                             precision_recall_curve, \n",
    "                             roc_curve, auc, \n",
    "                             classification_report, \n",
    "                             recall_score, \n",
    "                             precision_recall_fscore_support)\n",
    "import numpy as np\n",
    "import matplotlib.pyplot as plt\n",
    "import seaborn as sns\n",
    "\n",
    "USE_CUDA = torch.cuda.is_available()\n",
    "device = torch.device(\"cuda\" if USE_CUDA else \"cpu\")"
   ]
  },
  {
   "cell_type": "markdown",
   "metadata": {
    "colab_type": "text",
    "id": "forFjO77noPH"
   },
   "source": [
    "## Explorative Data Analysis"
   ]
  },
  {
   "cell_type": "code",
   "execution_count": 2,
   "metadata": {
    "colab": {
     "base_uri": "https://localhost:8080/",
     "height": 244
    },
    "colab_type": "code",
    "id": "RnI8H_QKnl0X",
    "outputId": "a076c619-cce4-423f-97f6-34f8d4d16bbd"
   },
   "outputs": [
    {
     "data": {
      "text/html": [
       "<div>\n",
       "<style scoped>\n",
       "    .dataframe tbody tr th:only-of-type {\n",
       "        vertical-align: middle;\n",
       "    }\n",
       "\n",
       "    .dataframe tbody tr th {\n",
       "        vertical-align: top;\n",
       "    }\n",
       "\n",
       "    .dataframe thead th {\n",
       "        text-align: right;\n",
       "    }\n",
       "</style>\n",
       "<table border=\"1\" class=\"dataframe\">\n",
       "  <thead>\n",
       "    <tr style=\"text-align: right;\">\n",
       "      <th></th>\n",
       "      <th>Time</th>\n",
       "      <th>V1</th>\n",
       "      <th>V2</th>\n",
       "      <th>V3</th>\n",
       "      <th>V4</th>\n",
       "      <th>V5</th>\n",
       "      <th>V6</th>\n",
       "      <th>V7</th>\n",
       "      <th>V8</th>\n",
       "      <th>V9</th>\n",
       "      <th>...</th>\n",
       "      <th>V21</th>\n",
       "      <th>V22</th>\n",
       "      <th>V23</th>\n",
       "      <th>V24</th>\n",
       "      <th>V25</th>\n",
       "      <th>V26</th>\n",
       "      <th>V27</th>\n",
       "      <th>V28</th>\n",
       "      <th>Amount</th>\n",
       "      <th>Class</th>\n",
       "    </tr>\n",
       "  </thead>\n",
       "  <tbody>\n",
       "    <tr>\n",
       "      <th>284802</th>\n",
       "      <td>172786.0</td>\n",
       "      <td>-11.881118</td>\n",
       "      <td>10.071785</td>\n",
       "      <td>-9.834783</td>\n",
       "      <td>-2.066656</td>\n",
       "      <td>-5.364473</td>\n",
       "      <td>-2.606837</td>\n",
       "      <td>-4.918215</td>\n",
       "      <td>7.305334</td>\n",
       "      <td>1.914428</td>\n",
       "      <td>...</td>\n",
       "      <td>0.213454</td>\n",
       "      <td>0.111864</td>\n",
       "      <td>1.014480</td>\n",
       "      <td>-0.509348</td>\n",
       "      <td>1.436807</td>\n",
       "      <td>0.250034</td>\n",
       "      <td>0.943651</td>\n",
       "      <td>0.823731</td>\n",
       "      <td>0.77</td>\n",
       "      <td>0</td>\n",
       "    </tr>\n",
       "    <tr>\n",
       "      <th>284803</th>\n",
       "      <td>172787.0</td>\n",
       "      <td>-0.732789</td>\n",
       "      <td>-0.055080</td>\n",
       "      <td>2.035030</td>\n",
       "      <td>-0.738589</td>\n",
       "      <td>0.868229</td>\n",
       "      <td>1.058415</td>\n",
       "      <td>0.024330</td>\n",
       "      <td>0.294869</td>\n",
       "      <td>0.584800</td>\n",
       "      <td>...</td>\n",
       "      <td>0.214205</td>\n",
       "      <td>0.924384</td>\n",
       "      <td>0.012463</td>\n",
       "      <td>-1.016226</td>\n",
       "      <td>-0.606624</td>\n",
       "      <td>-0.395255</td>\n",
       "      <td>0.068472</td>\n",
       "      <td>-0.053527</td>\n",
       "      <td>24.79</td>\n",
       "      <td>0</td>\n",
       "    </tr>\n",
       "    <tr>\n",
       "      <th>284804</th>\n",
       "      <td>172788.0</td>\n",
       "      <td>1.919565</td>\n",
       "      <td>-0.301254</td>\n",
       "      <td>-3.249640</td>\n",
       "      <td>-0.557828</td>\n",
       "      <td>2.630515</td>\n",
       "      <td>3.031260</td>\n",
       "      <td>-0.296827</td>\n",
       "      <td>0.708417</td>\n",
       "      <td>0.432454</td>\n",
       "      <td>...</td>\n",
       "      <td>0.232045</td>\n",
       "      <td>0.578229</td>\n",
       "      <td>-0.037501</td>\n",
       "      <td>0.640134</td>\n",
       "      <td>0.265745</td>\n",
       "      <td>-0.087371</td>\n",
       "      <td>0.004455</td>\n",
       "      <td>-0.026561</td>\n",
       "      <td>67.88</td>\n",
       "      <td>0</td>\n",
       "    </tr>\n",
       "    <tr>\n",
       "      <th>284805</th>\n",
       "      <td>172788.0</td>\n",
       "      <td>-0.240440</td>\n",
       "      <td>0.530483</td>\n",
       "      <td>0.702510</td>\n",
       "      <td>0.689799</td>\n",
       "      <td>-0.377961</td>\n",
       "      <td>0.623708</td>\n",
       "      <td>-0.686180</td>\n",
       "      <td>0.679145</td>\n",
       "      <td>0.392087</td>\n",
       "      <td>...</td>\n",
       "      <td>0.265245</td>\n",
       "      <td>0.800049</td>\n",
       "      <td>-0.163298</td>\n",
       "      <td>0.123205</td>\n",
       "      <td>-0.569159</td>\n",
       "      <td>0.546668</td>\n",
       "      <td>0.108821</td>\n",
       "      <td>0.104533</td>\n",
       "      <td>10.00</td>\n",
       "      <td>0</td>\n",
       "    </tr>\n",
       "    <tr>\n",
       "      <th>284806</th>\n",
       "      <td>172792.0</td>\n",
       "      <td>-0.533413</td>\n",
       "      <td>-0.189733</td>\n",
       "      <td>0.703337</td>\n",
       "      <td>-0.506271</td>\n",
       "      <td>-0.012546</td>\n",
       "      <td>-0.649617</td>\n",
       "      <td>1.577006</td>\n",
       "      <td>-0.414650</td>\n",
       "      <td>0.486180</td>\n",
       "      <td>...</td>\n",
       "      <td>0.261057</td>\n",
       "      <td>0.643078</td>\n",
       "      <td>0.376777</td>\n",
       "      <td>0.008797</td>\n",
       "      <td>-0.473649</td>\n",
       "      <td>-0.818267</td>\n",
       "      <td>-0.002415</td>\n",
       "      <td>0.013649</td>\n",
       "      <td>217.00</td>\n",
       "      <td>0</td>\n",
       "    </tr>\n",
       "  </tbody>\n",
       "</table>\n",
       "<p>5 rows × 31 columns</p>\n",
       "</div>"
      ],
      "text/plain": [
       "            Time         V1         V2        V3        V4        V5  \\\n",
       "284802  172786.0 -11.881118  10.071785 -9.834783 -2.066656 -5.364473   \n",
       "284803  172787.0  -0.732789  -0.055080  2.035030 -0.738589  0.868229   \n",
       "284804  172788.0   1.919565  -0.301254 -3.249640 -0.557828  2.630515   \n",
       "284805  172788.0  -0.240440   0.530483  0.702510  0.689799 -0.377961   \n",
       "284806  172792.0  -0.533413  -0.189733  0.703337 -0.506271 -0.012546   \n",
       "\n",
       "              V6        V7        V8        V9  ...         V21       V22  \\\n",
       "284802 -2.606837 -4.918215  7.305334  1.914428  ...    0.213454  0.111864   \n",
       "284803  1.058415  0.024330  0.294869  0.584800  ...    0.214205  0.924384   \n",
       "284804  3.031260 -0.296827  0.708417  0.432454  ...    0.232045  0.578229   \n",
       "284805  0.623708 -0.686180  0.679145  0.392087  ...    0.265245  0.800049   \n",
       "284806 -0.649617  1.577006 -0.414650  0.486180  ...    0.261057  0.643078   \n",
       "\n",
       "             V23       V24       V25       V26       V27       V28  Amount  \\\n",
       "284802  1.014480 -0.509348  1.436807  0.250034  0.943651  0.823731    0.77   \n",
       "284803  0.012463 -1.016226 -0.606624 -0.395255  0.068472 -0.053527   24.79   \n",
       "284804 -0.037501  0.640134  0.265745 -0.087371  0.004455 -0.026561   67.88   \n",
       "284805 -0.163298  0.123205 -0.569159  0.546668  0.108821  0.104533   10.00   \n",
       "284806  0.376777  0.008797 -0.473649 -0.818267 -0.002415  0.013649  217.00   \n",
       "\n",
       "        Class  \n",
       "284802      0  \n",
       "284803      0  \n",
       "284804      0  \n",
       "284805      0  \n",
       "284806      0  \n",
       "\n",
       "[5 rows x 31 columns]"
      ]
     },
     "execution_count": 2,
     "metadata": {},
     "output_type": "execute_result"
    }
   ],
   "source": [
    "df = pd.read_csv('./creditcard.csv')\n",
    "df.tail()"
   ]
  },
  {
   "cell_type": "code",
   "execution_count": 3,
   "metadata": {
    "colab": {
     "base_uri": "https://localhost:8080/",
     "height": 337
    },
    "colab_type": "code",
    "id": "tp2IhXanRmVJ",
    "outputId": "3bb13dbd-1eeb-4ac3-ba2b-931a5086a2ea"
   },
   "outputs": [
    {
     "data": {
      "text/html": [
       "<div>\n",
       "<style scoped>\n",
       "    .dataframe tbody tr th:only-of-type {\n",
       "        vertical-align: middle;\n",
       "    }\n",
       "\n",
       "    .dataframe tbody tr th {\n",
       "        vertical-align: top;\n",
       "    }\n",
       "\n",
       "    .dataframe thead th {\n",
       "        text-align: right;\n",
       "    }\n",
       "</style>\n",
       "<table border=\"1\" class=\"dataframe\">\n",
       "  <thead>\n",
       "    <tr style=\"text-align: right;\">\n",
       "      <th></th>\n",
       "      <th>Time</th>\n",
       "      <th>V1</th>\n",
       "      <th>V2</th>\n",
       "      <th>V3</th>\n",
       "      <th>V4</th>\n",
       "      <th>V5</th>\n",
       "      <th>V6</th>\n",
       "      <th>V7</th>\n",
       "      <th>V8</th>\n",
       "      <th>V9</th>\n",
       "      <th>...</th>\n",
       "      <th>V21</th>\n",
       "      <th>V22</th>\n",
       "      <th>V23</th>\n",
       "      <th>V24</th>\n",
       "      <th>V25</th>\n",
       "      <th>V26</th>\n",
       "      <th>V27</th>\n",
       "      <th>V28</th>\n",
       "      <th>Amount</th>\n",
       "      <th>Class</th>\n",
       "    </tr>\n",
       "  </thead>\n",
       "  <tbody>\n",
       "    <tr>\n",
       "      <th>count</th>\n",
       "      <td>284807.000000</td>\n",
       "      <td>2.848070e+05</td>\n",
       "      <td>2.848070e+05</td>\n",
       "      <td>2.848070e+05</td>\n",
       "      <td>2.848070e+05</td>\n",
       "      <td>2.848070e+05</td>\n",
       "      <td>2.848070e+05</td>\n",
       "      <td>2.848070e+05</td>\n",
       "      <td>2.848070e+05</td>\n",
       "      <td>2.848070e+05</td>\n",
       "      <td>...</td>\n",
       "      <td>2.848070e+05</td>\n",
       "      <td>2.848070e+05</td>\n",
       "      <td>2.848070e+05</td>\n",
       "      <td>2.848070e+05</td>\n",
       "      <td>2.848070e+05</td>\n",
       "      <td>2.848070e+05</td>\n",
       "      <td>2.848070e+05</td>\n",
       "      <td>2.848070e+05</td>\n",
       "      <td>284807.000000</td>\n",
       "      <td>284807.000000</td>\n",
       "    </tr>\n",
       "    <tr>\n",
       "      <th>mean</th>\n",
       "      <td>94813.859575</td>\n",
       "      <td>3.919560e-15</td>\n",
       "      <td>5.688174e-16</td>\n",
       "      <td>-8.769071e-15</td>\n",
       "      <td>2.782312e-15</td>\n",
       "      <td>-1.552563e-15</td>\n",
       "      <td>2.010663e-15</td>\n",
       "      <td>-1.694249e-15</td>\n",
       "      <td>-1.927028e-16</td>\n",
       "      <td>-3.137024e-15</td>\n",
       "      <td>...</td>\n",
       "      <td>1.537294e-16</td>\n",
       "      <td>7.959909e-16</td>\n",
       "      <td>5.367590e-16</td>\n",
       "      <td>4.458112e-15</td>\n",
       "      <td>1.453003e-15</td>\n",
       "      <td>1.699104e-15</td>\n",
       "      <td>-3.660161e-16</td>\n",
       "      <td>-1.206049e-16</td>\n",
       "      <td>88.349619</td>\n",
       "      <td>0.001727</td>\n",
       "    </tr>\n",
       "    <tr>\n",
       "      <th>std</th>\n",
       "      <td>47488.145955</td>\n",
       "      <td>1.958696e+00</td>\n",
       "      <td>1.651309e+00</td>\n",
       "      <td>1.516255e+00</td>\n",
       "      <td>1.415869e+00</td>\n",
       "      <td>1.380247e+00</td>\n",
       "      <td>1.332271e+00</td>\n",
       "      <td>1.237094e+00</td>\n",
       "      <td>1.194353e+00</td>\n",
       "      <td>1.098632e+00</td>\n",
       "      <td>...</td>\n",
       "      <td>7.345240e-01</td>\n",
       "      <td>7.257016e-01</td>\n",
       "      <td>6.244603e-01</td>\n",
       "      <td>6.056471e-01</td>\n",
       "      <td>5.212781e-01</td>\n",
       "      <td>4.822270e-01</td>\n",
       "      <td>4.036325e-01</td>\n",
       "      <td>3.300833e-01</td>\n",
       "      <td>250.120109</td>\n",
       "      <td>0.041527</td>\n",
       "    </tr>\n",
       "    <tr>\n",
       "      <th>min</th>\n",
       "      <td>0.000000</td>\n",
       "      <td>-5.640751e+01</td>\n",
       "      <td>-7.271573e+01</td>\n",
       "      <td>-4.832559e+01</td>\n",
       "      <td>-5.683171e+00</td>\n",
       "      <td>-1.137433e+02</td>\n",
       "      <td>-2.616051e+01</td>\n",
       "      <td>-4.355724e+01</td>\n",
       "      <td>-7.321672e+01</td>\n",
       "      <td>-1.343407e+01</td>\n",
       "      <td>...</td>\n",
       "      <td>-3.483038e+01</td>\n",
       "      <td>-1.093314e+01</td>\n",
       "      <td>-4.480774e+01</td>\n",
       "      <td>-2.836627e+00</td>\n",
       "      <td>-1.029540e+01</td>\n",
       "      <td>-2.604551e+00</td>\n",
       "      <td>-2.256568e+01</td>\n",
       "      <td>-1.543008e+01</td>\n",
       "      <td>0.000000</td>\n",
       "      <td>0.000000</td>\n",
       "    </tr>\n",
       "    <tr>\n",
       "      <th>25%</th>\n",
       "      <td>54201.500000</td>\n",
       "      <td>-9.203734e-01</td>\n",
       "      <td>-5.985499e-01</td>\n",
       "      <td>-8.903648e-01</td>\n",
       "      <td>-8.486401e-01</td>\n",
       "      <td>-6.915971e-01</td>\n",
       "      <td>-7.682956e-01</td>\n",
       "      <td>-5.540759e-01</td>\n",
       "      <td>-2.086297e-01</td>\n",
       "      <td>-6.430976e-01</td>\n",
       "      <td>...</td>\n",
       "      <td>-2.283949e-01</td>\n",
       "      <td>-5.423504e-01</td>\n",
       "      <td>-1.618463e-01</td>\n",
       "      <td>-3.545861e-01</td>\n",
       "      <td>-3.171451e-01</td>\n",
       "      <td>-3.269839e-01</td>\n",
       "      <td>-7.083953e-02</td>\n",
       "      <td>-5.295979e-02</td>\n",
       "      <td>5.600000</td>\n",
       "      <td>0.000000</td>\n",
       "    </tr>\n",
       "    <tr>\n",
       "      <th>50%</th>\n",
       "      <td>84692.000000</td>\n",
       "      <td>1.810880e-02</td>\n",
       "      <td>6.548556e-02</td>\n",
       "      <td>1.798463e-01</td>\n",
       "      <td>-1.984653e-02</td>\n",
       "      <td>-5.433583e-02</td>\n",
       "      <td>-2.741871e-01</td>\n",
       "      <td>4.010308e-02</td>\n",
       "      <td>2.235804e-02</td>\n",
       "      <td>-5.142873e-02</td>\n",
       "      <td>...</td>\n",
       "      <td>-2.945017e-02</td>\n",
       "      <td>6.781943e-03</td>\n",
       "      <td>-1.119293e-02</td>\n",
       "      <td>4.097606e-02</td>\n",
       "      <td>1.659350e-02</td>\n",
       "      <td>-5.213911e-02</td>\n",
       "      <td>1.342146e-03</td>\n",
       "      <td>1.124383e-02</td>\n",
       "      <td>22.000000</td>\n",
       "      <td>0.000000</td>\n",
       "    </tr>\n",
       "    <tr>\n",
       "      <th>75%</th>\n",
       "      <td>139320.500000</td>\n",
       "      <td>1.315642e+00</td>\n",
       "      <td>8.037239e-01</td>\n",
       "      <td>1.027196e+00</td>\n",
       "      <td>7.433413e-01</td>\n",
       "      <td>6.119264e-01</td>\n",
       "      <td>3.985649e-01</td>\n",
       "      <td>5.704361e-01</td>\n",
       "      <td>3.273459e-01</td>\n",
       "      <td>5.971390e-01</td>\n",
       "      <td>...</td>\n",
       "      <td>1.863772e-01</td>\n",
       "      <td>5.285536e-01</td>\n",
       "      <td>1.476421e-01</td>\n",
       "      <td>4.395266e-01</td>\n",
       "      <td>3.507156e-01</td>\n",
       "      <td>2.409522e-01</td>\n",
       "      <td>9.104512e-02</td>\n",
       "      <td>7.827995e-02</td>\n",
       "      <td>77.165000</td>\n",
       "      <td>0.000000</td>\n",
       "    </tr>\n",
       "    <tr>\n",
       "      <th>max</th>\n",
       "      <td>172792.000000</td>\n",
       "      <td>2.454930e+00</td>\n",
       "      <td>2.205773e+01</td>\n",
       "      <td>9.382558e+00</td>\n",
       "      <td>1.687534e+01</td>\n",
       "      <td>3.480167e+01</td>\n",
       "      <td>7.330163e+01</td>\n",
       "      <td>1.205895e+02</td>\n",
       "      <td>2.000721e+01</td>\n",
       "      <td>1.559499e+01</td>\n",
       "      <td>...</td>\n",
       "      <td>2.720284e+01</td>\n",
       "      <td>1.050309e+01</td>\n",
       "      <td>2.252841e+01</td>\n",
       "      <td>4.584549e+00</td>\n",
       "      <td>7.519589e+00</td>\n",
       "      <td>3.517346e+00</td>\n",
       "      <td>3.161220e+01</td>\n",
       "      <td>3.384781e+01</td>\n",
       "      <td>25691.160000</td>\n",
       "      <td>1.000000</td>\n",
       "    </tr>\n",
       "  </tbody>\n",
       "</table>\n",
       "<p>8 rows × 31 columns</p>\n",
       "</div>"
      ],
      "text/plain": [
       "                Time            V1            V2            V3            V4  \\\n",
       "count  284807.000000  2.848070e+05  2.848070e+05  2.848070e+05  2.848070e+05   \n",
       "mean    94813.859575  3.919560e-15  5.688174e-16 -8.769071e-15  2.782312e-15   \n",
       "std     47488.145955  1.958696e+00  1.651309e+00  1.516255e+00  1.415869e+00   \n",
       "min         0.000000 -5.640751e+01 -7.271573e+01 -4.832559e+01 -5.683171e+00   \n",
       "25%     54201.500000 -9.203734e-01 -5.985499e-01 -8.903648e-01 -8.486401e-01   \n",
       "50%     84692.000000  1.810880e-02  6.548556e-02  1.798463e-01 -1.984653e-02   \n",
       "75%    139320.500000  1.315642e+00  8.037239e-01  1.027196e+00  7.433413e-01   \n",
       "max    172792.000000  2.454930e+00  2.205773e+01  9.382558e+00  1.687534e+01   \n",
       "\n",
       "                 V5            V6            V7            V8            V9  \\\n",
       "count  2.848070e+05  2.848070e+05  2.848070e+05  2.848070e+05  2.848070e+05   \n",
       "mean  -1.552563e-15  2.010663e-15 -1.694249e-15 -1.927028e-16 -3.137024e-15   \n",
       "std    1.380247e+00  1.332271e+00  1.237094e+00  1.194353e+00  1.098632e+00   \n",
       "min   -1.137433e+02 -2.616051e+01 -4.355724e+01 -7.321672e+01 -1.343407e+01   \n",
       "25%   -6.915971e-01 -7.682956e-01 -5.540759e-01 -2.086297e-01 -6.430976e-01   \n",
       "50%   -5.433583e-02 -2.741871e-01  4.010308e-02  2.235804e-02 -5.142873e-02   \n",
       "75%    6.119264e-01  3.985649e-01  5.704361e-01  3.273459e-01  5.971390e-01   \n",
       "max    3.480167e+01  7.330163e+01  1.205895e+02  2.000721e+01  1.559499e+01   \n",
       "\n",
       "           ...                 V21           V22           V23           V24  \\\n",
       "count      ...        2.848070e+05  2.848070e+05  2.848070e+05  2.848070e+05   \n",
       "mean       ...        1.537294e-16  7.959909e-16  5.367590e-16  4.458112e-15   \n",
       "std        ...        7.345240e-01  7.257016e-01  6.244603e-01  6.056471e-01   \n",
       "min        ...       -3.483038e+01 -1.093314e+01 -4.480774e+01 -2.836627e+00   \n",
       "25%        ...       -2.283949e-01 -5.423504e-01 -1.618463e-01 -3.545861e-01   \n",
       "50%        ...       -2.945017e-02  6.781943e-03 -1.119293e-02  4.097606e-02   \n",
       "75%        ...        1.863772e-01  5.285536e-01  1.476421e-01  4.395266e-01   \n",
       "max        ...        2.720284e+01  1.050309e+01  2.252841e+01  4.584549e+00   \n",
       "\n",
       "                V25           V26           V27           V28         Amount  \\\n",
       "count  2.848070e+05  2.848070e+05  2.848070e+05  2.848070e+05  284807.000000   \n",
       "mean   1.453003e-15  1.699104e-15 -3.660161e-16 -1.206049e-16      88.349619   \n",
       "std    5.212781e-01  4.822270e-01  4.036325e-01  3.300833e-01     250.120109   \n",
       "min   -1.029540e+01 -2.604551e+00 -2.256568e+01 -1.543008e+01       0.000000   \n",
       "25%   -3.171451e-01 -3.269839e-01 -7.083953e-02 -5.295979e-02       5.600000   \n",
       "50%    1.659350e-02 -5.213911e-02  1.342146e-03  1.124383e-02      22.000000   \n",
       "75%    3.507156e-01  2.409522e-01  9.104512e-02  7.827995e-02      77.165000   \n",
       "max    7.519589e+00  3.517346e+00  3.161220e+01  3.384781e+01   25691.160000   \n",
       "\n",
       "               Class  \n",
       "count  284807.000000  \n",
       "mean        0.001727  \n",
       "std         0.041527  \n",
       "min         0.000000  \n",
       "25%         0.000000  \n",
       "50%         0.000000  \n",
       "75%         0.000000  \n",
       "max         1.000000  \n",
       "\n",
       "[8 rows x 31 columns]"
      ]
     },
     "execution_count": 3,
     "metadata": {},
     "output_type": "execute_result"
    }
   ],
   "source": [
    "df.describe()"
   ]
  },
  {
   "cell_type": "markdown",
   "metadata": {
    "colab_type": "text",
    "id": "iBVU89r8RmVQ"
   },
   "source": [
    "Check if there is any missing value"
   ]
  },
  {
   "cell_type": "code",
   "execution_count": 4,
   "metadata": {
    "colab": {
     "base_uri": "https://localhost:8080/",
     "height": 561
    },
    "colab_type": "code",
    "id": "s5RDdLpdRmVS",
    "outputId": "21056820-8445-4572-9455-3d458fc743eb"
   },
   "outputs": [
    {
     "data": {
      "text/plain": [
       "Time      0\n",
       "V1        0\n",
       "V2        0\n",
       "V3        0\n",
       "V4        0\n",
       "V5        0\n",
       "V6        0\n",
       "V7        0\n",
       "V8        0\n",
       "V9        0\n",
       "V10       0\n",
       "V11       0\n",
       "V12       0\n",
       "V13       0\n",
       "V14       0\n",
       "V15       0\n",
       "V16       0\n",
       "V17       0\n",
       "V18       0\n",
       "V19       0\n",
       "V20       0\n",
       "V21       0\n",
       "V22       0\n",
       "V23       0\n",
       "V24       0\n",
       "V25       0\n",
       "V26       0\n",
       "V27       0\n",
       "V28       0\n",
       "Amount    0\n",
       "Class     0\n",
       "dtype: int64"
      ]
     },
     "execution_count": 4,
     "metadata": {},
     "output_type": "execute_result"
    }
   ],
   "source": [
    "df.isnull().sum()"
   ]
  },
  {
   "cell_type": "code",
   "execution_count": 5,
   "metadata": {
    "colab": {
     "base_uri": "https://localhost:8080/",
     "height": 380
    },
    "colab_type": "code",
    "id": "nPftrpPjRmVZ",
    "outputId": "b7bb0aa0-9027-4edc-a0da-fb1487264c7a"
   },
   "outputs": [
    {
     "name": "stdout",
     "output_type": "stream",
     "text": [
      "Number of normal cases:\t284315\t(99.8273%)\n",
      "Number of fraud cases:\t492\t(0.1727%)\n"
     ]
    },
    {
     "data": {
      "image/png": "[encoded data removed]",
      "text/plain": [
       "<Figure size 576x360 with 1 Axes>"
      ]
     },
     "metadata": {
      "needs_background": "light"
     },
     "output_type": "display_data"
    }
   ],
   "source": [
    "class_count = pd.value_counts(df.Class)\n",
    "class_count.plot(figsize=(8,5), kind='bar')\n",
    "plt.title(\"Fraud class histogram\")\n",
    "plt.xlabel(\"Class\")\n",
    "plt.ylabel(\"Frequency\")\n",
    "print('Number of normal cases:\\t{}\\t({:.4f}%)'.format(class_count[0], class_count[0]/len(df)*100))\n",
    "print('Number of fraud cases:\\t{}\\t({:.4f}%)'.format(class_count[1], class_count[1]/len(df)*100))"
   ]
  },
  {
   "cell_type": "markdown",
   "metadata": {
    "colab_type": "text",
    "id": "nwYwqYJURmVg"
   },
   "source": [
    "Since the dataset is highly unbalanced, we may use autoencoder to detect frauds."
   ]
  },
  {
   "cell_type": "code",
   "execution_count": 6,
   "metadata": {},
   "outputs": [
    {
     "data": {
      "image/png": "[encoded data removed]",
      "text/plain": [
       "<Figure size 1800x360 with 4 Axes>"
      ]
     },
     "metadata": {
      "needs_background": "light"
     },
     "output_type": "display_data"
    }
   ],
   "source": [
    "#plot of high value transactions\n",
    "normal_df = df[df.Class == 0]\n",
    "fraud_df = df[df.Class == 1]\n",
    "figs, axs = plt.subplots(1, 4, figsize=(25,5))\n",
    "\n",
    "bin_number=100\n",
    "start_end = [(0, 100), (100, 500), (500, 1000), (1000, 2500)]\n",
    "for idx, ax in enumerate(axs):\n",
    "    start, end = start_end[idx]\n",
    "    bins = np.linspace(start, end, bin_number)\n",
    "    ax.hist(normal_df.Amount, bins, alpha=1, density=True, label='Normal')\n",
    "    ax.hist(fraud_df.Amount, bins, alpha=0.6, density=True, label='Fraud')\n",
    "    ax.legend(loc='upper right')\n",
    "    ax.set_title(\"Amount by percentage of transactions\")\n",
    "    ax.set_xlabel(\"Transaction amount\")\n",
    "    ax.set_ylabel(\"Percentage of transactions (%)\")\n",
    "\n",
    "plt.show()\n"
   ]
  },
  {
   "cell_type": "code",
   "execution_count": 7,
   "metadata": {},
   "outputs": [
    {
     "data": {
      "image/png": "[encoded data removed]",
      "text/plain": [
       "<Figure size 864x432 with 1 Axes>"
      ]
     },
     "metadata": {
      "needs_background": "light"
     },
     "output_type": "display_data"
    }
   ],
   "source": [
    "bins = np.linspace(0, df.Time.max(), 50) \n",
    "plt.figure(figsize=(12,6))\n",
    "plt.hist(normal_df.Time, bins, alpha=1, density=True, label='Normal')\n",
    "plt.hist(fraud_df.Time, bins, alpha=0.6, density=True, label='Fraud')\n",
    "plt.legend(loc='upper right')\n",
    "plt.title(\"Percentage of transactions by hour\")\n",
    "plt.xlabel(\"Transaction time as measured from first transaction in the dataset (hours)\")\n",
    "plt.ylabel(\"Percentage of transactions (%)\");\n",
    "#plt.hist((df.Time/(60*60)),bins)\n",
    "plt.show()"
   ]
  },
  {
   "cell_type": "markdown",
   "metadata": {
    "colab_type": "text",
    "id": "OQUOEj5iq2tS"
   },
   "source": [
    "## Data Preparation for Model Training"
   ]
  },
  {
   "cell_type": "markdown",
   "metadata": {
    "colab_type": "text",
    "id": "dmjeBfwJPBSI"
   },
   "source": [
    "**Since the features V1, V2, ..., V28 are the principal components obtained with PCA, that means they are already normalized to zero mean and unit variance. So we only need to normalize the features time and amount.**"
   ]
  },
  {
   "cell_type": "code",
   "execution_count": 8,
   "metadata": {
    "colab": {},
    "colab_type": "code",
    "id": "4ccV12vDRmVr"
   },
   "outputs": [],
   "source": [
    "df_scaled = df\n",
    "df_scaled.Time = StandardScaler().fit_transform(df_scaled.Time.values.reshape(-1, 1))\n",
    "df_scaled.Amount = StandardScaler().fit_transform(df_scaled.Amount.values.reshape(-1, 1))"
   ]
  },
  {
   "cell_type": "code",
   "execution_count": 9,
   "metadata": {
    "colab": {},
    "colab_type": "code",
    "id": "yfHrzVPPRmVu"
   },
   "outputs": [],
   "source": [
    "BATCH_SIZE = 128\n",
    "NUM_EPOCHS = 100\n",
    "REG_MULTIPLIER = 0.3\n",
    "RANDOM_SEED = 31\n",
    "TEST_SIZE = 0.2\n",
    "\n",
    "X_train, X_test = train_test_split(df_scaled, test_size=TEST_SIZE, random_state=RANDOM_SEED)\n",
    "X_train_1 = X_train[X_train.Class == 1]\n",
    "X_train = X_train[X_train.Class == 0]\n",
    "X_train = X_train.drop(['Class'], axis=1)\n",
    "X_train = X_train.values\n",
    "\n",
    "X_train, X_val = train_test_split(X_train, test_size=TEST_SIZE, random_state=RANDOM_SEED)\n",
    "\n",
    "\n",
    "X_test = pd.concat([X_test, X_train_1], axis=0)\n",
    "X_test = shuffle(X_test)\n",
    "y_test = X_test['Class'].values\n",
    "X_test = X_test.drop(['Class'], axis=1) \n",
    "X_test = X_test.values\n",
    "\n",
    "\n",
    "training_samples = utils_data.TensorDataset(torch.from_numpy(X_train), torch.from_numpy(X_train))\n",
    "validation_samples = utils_data.TensorDataset(torch.from_numpy(X_val), torch.from_numpy(X_val))\n",
    "training_data_loader = utils_data.DataLoader(training_samples, batch_size=BATCH_SIZE, shuffle=True)\t\n",
    "validation_data_loader = utils_data.DataLoader(validation_samples, batch_size=BATCH_SIZE, shuffle=True)"
   ]
  },
  {
   "cell_type": "markdown",
   "metadata": {
    "colab_type": "text",
    "id": "BWJhzYy8rC_n"
   },
   "source": [
    "## Model Building and Training"
   ]
  },
  {
   "cell_type": "code",
   "execution_count": 10,
   "metadata": {
    "colab": {
     "base_uri": "https://localhost:8080/",
     "height": 521,
     "resources": {
      "http://localhost:8080/autoencoder.png": {
       "data": "CjwhRE9DVFlQRSBodG1sPgo8aHRtbCBsYW5nPWVuPgogIDxtZXRhIGNoYXJzZXQ9dXRmLTg+CiAgPG1ldGEgbmFtZT12aWV3cG9ydCBjb250ZW50PSJpbml0aWFsLXNjYWxlPTEsIG1pbmltdW0tc2NhbGU9MSwgd2lkdGg9ZGV2aWNlLXdpZHRoIj4KICA8dGl0bGU+RXJyb3IgNDA0IChOb3QgRm91bmQpISExPC90aXRsZT4KICA8c3R5bGU+CiAgICAqe21hcmdpbjowO3BhZGRpbmc6MH1odG1sLGNvZGV7Zm9udDoxNXB4LzIycHggYXJpYWwsc2Fucy1zZXJpZn1odG1se2JhY2tncm91bmQ6I2ZmZjtjb2xvcjojMjIyO3BhZGRpbmc6MTVweH1ib2R5e21hcmdpbjo3JSBhdXRvIDA7bWF4LXdpZHRoOjM5MHB4O21pbi1oZWlnaHQ6MTgwcHg7cGFkZGluZzozMHB4IDAgMTVweH0qID4gYm9keXtiYWNrZ3JvdW5kOnVybCgvL3d3dy5nb29nbGUuY29tL2ltYWdlcy9lcnJvcnMvcm9ib3QucG5nKSAxMDAlIDVweCBuby1yZXBlYXQ7cGFkZGluZy1yaWdodDoyMDVweH1we21hcmdpbjoxMXB4IDAgMjJweDtvdmVyZmxvdzpoaWRkZW59aW5ze2NvbG9yOiM3Nzc7dGV4dC1kZWNvcmF0aW9uOm5vbmV9YSBpbWd7Ym9yZGVyOjB9QG1lZGlhIHNjcmVlbiBhbmQgKG1heC13aWR0aDo3NzJweCl7Ym9keXtiYWNrZ3JvdW5kOm5vbmU7bWFyZ2luLXRvcDowO21heC13aWR0aDpub25lO3BhZGRpbmctcmlnaHQ6MH19I2xvZ297YmFja2dyb3VuZDp1cmwoLy93d3cuZ29vZ2xlLmNvbS9pbWFnZXMvbG9nb3MvZXJyb3JwYWdlL2Vycm9yX2xvZ28tMTUweDU0LnBuZykgbm8tcmVwZWF0O21hcmdpbi1sZWZ0Oi01cHh9QG1lZGlhIG9ubHkgc2NyZWVuIGFuZCAobWluLXJlc29sdXRpb246MTkyZHBpKXsjbG9nb3tiYWNrZ3JvdW5kOnVybCgvL3d3dy5nb29nbGUuY29tL2ltYWdlcy9sb2dvcy9lcnJvcnBhZ2UvZXJyb3JfbG9nby0xNTB4NTQtMngucG5nKSBuby1yZXBlYXQgMCUgMCUvMTAwJSAxMDAlOy1tb3otYm9yZGVyLWltYWdlOnVybCgvL3d3dy5nb29nbGUuY29tL2ltYWdlcy9sb2dvcy9lcnJvcnBhZ2UvZXJyb3JfbG9nby0xNTB4NTQtMngucG5nKSAwfX1AbWVkaWEgb25seSBzY3JlZW4gYW5kICgtd2Via2l0LW1pbi1kZXZpY2UtcGl4ZWwtcmF0aW86Mil7I2xvZ297YmFja2dyb3VuZDp1cmwoLy93d3cuZ29vZ2xlLmNvbS9pbWFnZXMvbG9nb3MvZXJyb3JwYWdlL2Vycm9yX2xvZ28tMTUweDU0LTJ4LnBuZykgbm8tcmVwZWF0Oy13ZWJraXQtYmFja2dyb3VuZC1zaXplOjEwMCUgMTAwJX19I2xvZ297ZGlzcGxheTppbmxpbmUtYmxvY2s7aGVpZ2h0OjU0cHg7d2lkdGg6MTUwcHh9CiAgPC9zdHlsZT4KICA8YSBocmVmPS8vd3d3Lmdvb2dsZS5jb20vPjxzcGFuIGlkPWxvZ28gYXJpYS1sYWJlbD1Hb29nbGU+PC9zcGFuPjwvYT4KICA8cD48Yj40MDQuPC9iPiA8aW5zPlRoYXTigJlzIGFuIGVycm9yLjwvaW5zPgogIDxwPiAgPGlucz5UaGF04oCZcyBhbGwgd2Uga25vdy48L2lucz4K",
       "headers": [
        [
         "content-length",
         "1449"
        ],
        [
         "content-type",
         "text/html; charset=utf-8"
        ]
       ],
       "ok": false,
       "status": 404,
       "status_text": ""
      }
     }
    },
    "colab_type": "code",
    "id": "4t-Xm5KhRmVh",
    "outputId": "8339a1fc-3244-4469-b98f-f3804a838616"
   },
   "outputs": [
    {
     "data": {
      "text/html": [
       "<img src=\"autoencoder.png\", width=500, hight=200>\n"
      ],
      "text/plain": [
       "<IPython.core.display.HTML object>"
      ]
     },
     "metadata": {},
     "output_type": "display_data"
    }
   ],
   "source": [
    "%%html\n",
    "<img src=\"autoencoder.png\", width=500, hight=200>"
   ]
  },
  {
   "cell_type": "markdown",
   "metadata": {
    "colab_type": "text",
    "id": "rfGXIMaZ6Goy"
   },
   "source": [
    "The autoencoder consists of two parts of neural networks, which can be interpreted as an encoder and a decoder. The encoder are trained to learn the representation of input data, while the decoder are trained to reconstruct the input data from the output of the encoder, which can be interpreted as the compressed representation of input data.\n",
    "\n",
    "The output layer of decoder has the same number of nodes as the input layer of the encoder and the dimension of the compressed representation of the input data or the output of the encoder should be smaller than the the dimension of the input data in order to avoid the autoencoder to learn the identity function. \n",
    "\n",
    "We train our autoencoder on the normal samples, we assume that after training, the reconstruction error on normal samples should be small and the reconstruction error on fraud samples should be large. So we can classify the sample data into normal data or fraud data by calculating the reconstruction error and comparing it to a threshold value."
   ]
  },
  {
   "cell_type": "code",
   "execution_count": 11,
   "metadata": {
    "colab": {
     "base_uri": "https://localhost:8080/",
     "height": 323
    },
    "colab_type": "code",
    "id": "EnT6bGmHRmVm",
    "outputId": "15112f87-2ea7-427c-acd3-20a5fda761c7"
   },
   "outputs": [
    {
     "name": "stdout",
     "output_type": "stream",
     "text": [
      "Autoencoder(\n",
      "  (encoder): Sequential(\n",
      "    (layer1): Linear(in_features=30, out_features=21, bias=True)\n",
      "    (relu1): ReLU()\n",
      "    (layer2): Linear(in_features=21, out_features=14, bias=True)\n",
      "    (relu2): ReLU()\n",
      "    (layer3): Linear(in_features=14, out_features=7, bias=True)\n",
      "    (relu3): ReLU()\n",
      "  )\n",
      "  (decoder): Sequential(\n",
      "    (layer1): Linear(in_features=7, out_features=14, bias=True)\n",
      "    (relu1): ReLU()\n",
      "    (layer2): Linear(in_features=14, out_features=21, bias=True)\n",
      "    (relu2): ReLU()\n",
      "    (layer3): Linear(in_features=21, out_features=30, bias=True)\n",
      "    (relu3): ReLU()\n",
      "  )\n",
      ")\n"
     ]
    }
   ],
   "source": [
    "NUM_FEATURES = 30\n",
    "DIM1 = 21\n",
    "DIM2 = 14\n",
    "DIM3 = 7    \n",
    "    \n",
    "class Autoencoder(nn.Module):\n",
    "    def __init__(self, num_features, dim1, dim2, dim3, dropout=0.5):\n",
    "        super(Autoencoder, self).__init__()\n",
    "        self.encoder = torch.nn.Sequential()\n",
    "        self.encoder.add_module(\"layer1\", nn.Linear(num_features, dim1))\n",
    "#         self.encoder.add_module(\"dropout\", torch.nn.Dropout(dropout))\n",
    "        self.encoder.add_module(\"relu1\", torch.nn.ReLU())\n",
    "        self.encoder.add_module(\"layer2\", nn.Linear(dim1, dim2))\n",
    "#         self.encoder.add_module(\"dropout\", torch.nn.Dropout(dropout))\n",
    "        self.encoder.add_module(\"relu2\", torch.nn.ReLU())\n",
    "        self.encoder.add_module(\"layer3\", nn.Linear(dim2, dim3))\n",
    "#         self.encoder.add_module(\"dropout\", torch.nn.Dropout(dropout))\n",
    "        self.encoder.add_module(\"relu3\", torch.nn.ReLU())\n",
    "        \n",
    "        self.decoder = torch.nn.Sequential()\n",
    "        self.decoder.add_module(\"layer1\", nn.Linear(dim3, dim2))\n",
    "#         self.decoder.add_module(\"dropout\", torch.nn.Dropout(dropout))\n",
    "        self.decoder.add_module(\"relu1\", torch.nn.ReLU())\n",
    "        self.decoder.add_module(\"layer2\", nn.Linear(dim2, dim1))\n",
    "#         self.decoder.add_module(\"dropout\", torch.nn.Dropout(dropout))\n",
    "        self.decoder.add_module(\"relu2\", torch.nn.ReLU())\n",
    "        self.decoder.add_module(\"layer3\", nn.Linear(dim1, num_features))\n",
    "        self.decoder.add_module(\"relu3\", torch.nn.ReLU())\n",
    "        \n",
    "    def forward(self, input_features):\n",
    "        encoder_out = self.encoder(input_features)\n",
    "        decoder_out = self.decoder(encoder_out)\n",
    "        return decoder_out\n",
    "\n",
    "    \n",
    "autoencoder = Autoencoder(NUM_FEATURES, DIM1, DIM2, DIM3).to(device)\n",
    "print(autoencoder)"
   ]
  },
  {
   "cell_type": "code",
   "execution_count": 12,
   "metadata": {
    "colab": {
     "base_uri": "https://localhost:8080/",
     "height": 357
    },
    "colab_type": "code",
    "id": "YRTfbpukRmVx",
    "outputId": "9f60ab0a-01ee-4e90-bf2c-5ed88070170b"
   },
   "outputs": [
    {
     "name": "stdout",
     "output_type": "stream",
     "text": [
      "Train on 181964 samples, validate on 45491 samples\n",
      "\n",
      "Epoch: 1/100\n",
      "Training Loss: 0.8927\tValidation Loss: 0.8316\n",
      "Validation loss decreased from   inf to 0.831600, saving model to ./autoencoder_best.pth\n",
      "\n",
      "Epoch: 2/100\n",
      "Training Loss: 0.8098\tValidation Loss: 0.8085\n",
      "Validation loss decreased from 0.831600 to 0.808487, saving model to ./autoencoder_best.pth\n",
      "\n",
      "Epoch: 3/100\n",
      "Training Loss: 0.7957\tValidation Loss: 0.8009\n",
      "Validation loss decreased from 0.808487 to 0.800917, saving model to ./autoencoder_best.pth\n",
      "\n",
      "Epoch: 4/100\n",
      "Training Loss: 0.7909\tValidation Loss: 0.7965\n",
      "Validation loss decreased from 0.800917 to 0.796459, saving model to ./autoencoder_best.pth\n",
      "\n",
      "Epoch: 5/100\n",
      "Training Loss: 0.7870\tValidation Loss: 0.7939\n",
      "Validation loss decreased from 0.796459 to 0.793948, saving model to ./autoencoder_best.pth\n",
      "\n",
      "Epoch: 6/100\n",
      "Training Loss: 0.7840\tValidation Loss: 0.7891\n",
      "Validation loss decreased from 0.793948 to 0.789080, saving model to ./autoencoder_best.pth\n",
      "\n",
      "Epoch: 7/100\n",
      "Training Loss: 0.7791\tValidation Loss: 0.7854\n",
      "Validation loss decreased from 0.789080 to 0.785381, saving model to ./autoencoder_best.pth\n",
      "\n",
      "Epoch: 8/100\n",
      "Training Loss: 0.7758\tValidation Loss: 0.7845\n",
      "Validation loss decreased from 0.785381 to 0.784464, saving model to ./autoencoder_best.pth\n",
      "\n",
      "Epoch: 9/100\n",
      "Training Loss: 0.7732\tValidation Loss: 0.7903\n",
      "\n",
      "Epoch: 10/100\n",
      "Training Loss: 0.7616\tValidation Loss: 0.7620\n",
      "Validation loss decreased from 0.784464 to 0.762015, saving model to ./autoencoder_best.pth\n",
      "\n",
      "Epoch: 11/100\n",
      "Training Loss: 0.7518\tValidation Loss: 0.7573\n",
      "Validation loss decreased from 0.762015 to 0.757258, saving model to ./autoencoder_best.pth\n",
      "\n",
      "Epoch: 12/100\n",
      "Training Loss: 0.7499\tValidation Loss: 0.7578\n",
      "\n",
      "Epoch: 13/100\n",
      "Training Loss: 0.7483\tValidation Loss: 0.7549\n",
      "Validation loss decreased from 0.757258 to 0.754942, saving model to ./autoencoder_best.pth\n",
      "\n",
      "Epoch: 14/100\n",
      "Training Loss: 0.7487\tValidation Loss: 0.7559\n",
      "\n",
      "Epoch: 15/100\n",
      "Training Loss: 0.7475\tValidation Loss: 0.7553\n",
      "\n",
      "Epoch: 16/100\n",
      "Training Loss: 0.7470\tValidation Loss: 0.7540\n",
      "Validation loss decreased from 0.754942 to 0.753961, saving model to ./autoencoder_best.pth\n",
      "\n",
      "Epoch: 17/100\n",
      "Training Loss: 0.7467\tValidation Loss: 0.7547\n",
      "\n",
      "Epoch: 18/100\n",
      "Training Loss: 0.7462\tValidation Loss: 0.7535\n",
      "Validation loss decreased from 0.753961 to 0.753492, saving model to ./autoencoder_best.pth\n",
      "\n",
      "Epoch: 19/100\n",
      "Training Loss: 0.7455\tValidation Loss: 0.7516\n",
      "Validation loss decreased from 0.753492 to 0.751556, saving model to ./autoencoder_best.pth\n",
      "\n",
      "Epoch: 20/100\n",
      "Training Loss: 0.7434\tValidation Loss: 0.7503\n",
      "Validation loss decreased from 0.751556 to 0.750322, saving model to ./autoencoder_best.pth\n",
      "\n",
      "Epoch: 21/100\n",
      "Training Loss: 0.7421\tValidation Loss: 0.7492\n",
      "Validation loss decreased from 0.750322 to 0.749192, saving model to ./autoencoder_best.pth\n",
      "\n",
      "Epoch: 22/100\n",
      "Training Loss: 0.7417\tValidation Loss: 0.7489\n",
      "Validation loss decreased from 0.749192 to 0.748879, saving model to ./autoencoder_best.pth\n",
      "\n",
      "Epoch: 23/100\n",
      "Training Loss: 0.7408\tValidation Loss: 0.7487\n",
      "Validation loss decreased from 0.748879 to 0.748732, saving model to ./autoencoder_best.pth\n",
      "\n",
      "Epoch: 24/100\n",
      "Training Loss: 0.7406\tValidation Loss: 0.7484\n",
      "Validation loss decreased from 0.748732 to 0.748402, saving model to ./autoencoder_best.pth\n",
      "\n",
      "Epoch: 25/100\n",
      "Training Loss: 0.7406\tValidation Loss: 0.7483\n",
      "Validation loss decreased from 0.748402 to 0.748300, saving model to ./autoencoder_best.pth\n",
      "\n",
      "Epoch: 26/100\n",
      "Training Loss: 0.7401\tValidation Loss: 0.7469\n",
      "Validation loss decreased from 0.748300 to 0.746944, saving model to ./autoencoder_best.pth\n",
      "\n",
      "Epoch: 27/100\n",
      "Training Loss: 0.7389\tValidation Loss: 0.7471\n",
      "\n",
      "Epoch: 28/100\n",
      "Training Loss: 0.7388\tValidation Loss: 0.7460\n",
      "Validation loss decreased from 0.746944 to 0.745983, saving model to ./autoencoder_best.pth\n",
      "\n",
      "Epoch: 29/100\n",
      "Training Loss: 0.7387\tValidation Loss: 0.7491\n",
      "\n",
      "Epoch: 30/100\n",
      "Training Loss: 0.7384\tValidation Loss: 0.7463\n",
      "\n",
      "Epoch: 31/100\n",
      "Training Loss: 0.7392\tValidation Loss: 0.7460\n",
      "\n",
      "Epoch: 32/100\n",
      "Training Loss: 0.7382\tValidation Loss: 0.7458\n",
      "Validation loss decreased from 0.745983 to 0.745817, saving model to ./autoencoder_best.pth\n",
      "\n",
      "Epoch: 33/100\n",
      "Training Loss: 0.7381\tValidation Loss: 0.7462\n",
      "\n",
      "Epoch: 34/100\n",
      "Training Loss: 0.7378\tValidation Loss: 0.7459\n",
      "\n",
      "Epoch: 35/100\n",
      "Training Loss: 0.7380\tValidation Loss: 0.7454\n",
      "Validation loss decreased from 0.745817 to 0.745445, saving model to ./autoencoder_best.pth\n",
      "\n",
      "Epoch: 36/100\n",
      "Training Loss: 0.7380\tValidation Loss: 0.7462\n",
      "\n",
      "Epoch: 37/100\n",
      "Training Loss: 0.7376\tValidation Loss: 0.7454\n",
      "Validation loss decreased from 0.745445 to 0.745403, saving model to ./autoencoder_best.pth\n",
      "\n",
      "Epoch: 38/100\n",
      "Training Loss: 0.7373\tValidation Loss: 0.7455\n",
      "\n",
      "Epoch: 39/100\n",
      "Training Loss: 0.7375\tValidation Loss: 0.7448\n",
      "Validation loss decreased from 0.745403 to 0.744850, saving model to ./autoencoder_best.pth\n",
      "\n",
      "Epoch: 40/100\n",
      "Training Loss: 0.7373\tValidation Loss: 0.7463\n",
      "\n",
      "Epoch: 41/100\n",
      "Training Loss: 0.7370\tValidation Loss: 0.7451\n",
      "\n",
      "Epoch: 42/100\n",
      "Training Loss: 0.7371\tValidation Loss: 0.7447\n",
      "Validation loss decreased from 0.744850 to 0.744694, saving model to ./autoencoder_best.pth\n",
      "\n",
      "Epoch: 43/100\n",
      "Training Loss: 0.7370\tValidation Loss: 0.7466\n",
      "\n",
      "Epoch: 44/100\n",
      "Training Loss: 0.7370\tValidation Loss: 0.7453\n",
      "\n",
      "Epoch: 45/100\n",
      "Training Loss: 0.7370\tValidation Loss: 0.7453\n",
      "\n",
      "Epoch: 46/100\n",
      "Training Loss: 0.7372\tValidation Loss: 0.7450\n",
      "\n",
      "Epoch: 47/100\n",
      "Training Loss: 0.7368\tValidation Loss: 0.7452\n",
      "\n",
      "Epoch: 48/100\n",
      "Training Loss: 0.7366\tValidation Loss: 0.7446\n",
      "Validation loss decreased from 0.744694 to 0.744612, saving model to ./autoencoder_best.pth\n",
      "\n",
      "Epoch: 49/100\n",
      "Training Loss: 0.7367\tValidation Loss: 0.7442\n",
      "Validation loss decreased from 0.744612 to 0.744213, saving model to ./autoencoder_best.pth\n",
      "\n",
      "Epoch: 50/100\n",
      "Training Loss: 0.7365\tValidation Loss: 0.7445\n",
      "\n",
      "Epoch: 51/100\n",
      "Training Loss: 0.7365\tValidation Loss: 0.7446\n",
      "\n",
      "Epoch: 52/100\n",
      "Training Loss: 0.7365\tValidation Loss: 0.7443\n",
      "\n",
      "Epoch: 53/100\n",
      "Training Loss: 0.7364\tValidation Loss: 0.7446\n",
      "\n",
      "Epoch: 54/100\n",
      "Training Loss: 0.7365\tValidation Loss: 0.7464\n",
      "\n",
      "Epoch: 55/100\n",
      "Training Loss: 0.7365\tValidation Loss: 0.7446\n",
      "\n",
      "Epoch: 56/100\n",
      "Training Loss: 0.7365\tValidation Loss: 0.7439\n",
      "Validation loss decreased from 0.744213 to 0.743948, saving model to ./autoencoder_best.pth\n",
      "\n",
      "Epoch: 57/100\n",
      "Training Loss: 0.7360\tValidation Loss: 0.7448\n",
      "\n",
      "Epoch: 58/100\n",
      "Training Loss: 0.7362\tValidation Loss: 0.7449\n",
      "\n",
      "Epoch: 59/100\n",
      "Training Loss: 0.7362\tValidation Loss: 0.7444\n",
      "\n",
      "Epoch: 60/100\n",
      "Training Loss: 0.7361\tValidation Loss: 0.7442\n",
      "\n",
      "Epoch: 61/100\n",
      "Training Loss: 0.7358\tValidation Loss: 0.7451\n",
      "\n",
      "Epoch: 62/100\n",
      "Training Loss: 0.7357\tValidation Loss: 0.7439\n",
      "Validation loss decreased from 0.743948 to 0.743854, saving model to ./autoencoder_best.pth\n",
      "\n",
      "Epoch: 63/100\n",
      "Training Loss: 0.7358\tValidation Loss: 0.7434\n",
      "Validation loss decreased from 0.743854 to 0.743411, saving model to ./autoencoder_best.pth\n",
      "\n",
      "Epoch: 64/100\n",
      "Training Loss: 0.7357\tValidation Loss: 0.7440\n",
      "\n",
      "Epoch: 65/100\n",
      "Training Loss: 0.7356\tValidation Loss: 0.7447\n",
      "\n",
      "Epoch: 66/100\n",
      "Training Loss: 0.7358\tValidation Loss: 0.7446\n",
      "\n",
      "Epoch: 67/100\n",
      "Training Loss: 0.7357\tValidation Loss: 0.7439\n",
      "\n",
      "Epoch: 68/100\n",
      "Training Loss: 0.7357\tValidation Loss: 0.7437\n",
      "\n",
      "Epoch: 69/100\n",
      "Training Loss: 0.7360\tValidation Loss: 0.7446\n",
      "\n",
      "Epoch: 70/100\n",
      "Training Loss: 0.7355\tValidation Loss: 0.7472\n",
      "\n",
      "Epoch: 71/100\n",
      "Training Loss: 0.7356\tValidation Loss: 0.7432\n",
      "Validation loss decreased from 0.743411 to 0.743185, saving model to ./autoencoder_best.pth\n",
      "\n",
      "Epoch: 72/100\n",
      "Training Loss: 0.7360\tValidation Loss: 0.7435\n",
      "\n",
      "Epoch: 73/100\n",
      "Training Loss: 0.7355\tValidation Loss: 0.7437\n",
      "\n",
      "Epoch: 74/100\n",
      "Training Loss: 0.7353\tValidation Loss: 0.7440\n",
      "\n",
      "Epoch: 75/100\n",
      "Training Loss: 0.7354\tValidation Loss: 0.7555\n",
      "\n",
      "Epoch: 76/100\n",
      "Training Loss: 0.7356\tValidation Loss: 0.7433\n",
      "\n",
      "Epoch: 77/100\n",
      "Training Loss: 0.7354\tValidation Loss: 0.7436\n",
      "\n",
      "Epoch: 78/100\n",
      "Training Loss: 0.7356\tValidation Loss: 0.7443\n",
      "\n",
      "Epoch: 79/100\n",
      "Training Loss: 0.7359\tValidation Loss: 0.7451\n",
      "\n",
      "Epoch: 80/100\n",
      "Training Loss: 0.7356\tValidation Loss: 0.7442\n",
      "\n",
      "Epoch: 81/100\n",
      "Training Loss: 0.7353\tValidation Loss: 0.7434\n",
      "\n",
      "Epoch: 82/100\n",
      "Training Loss: 0.7354\tValidation Loss: 0.7441\n",
      "\n",
      "Epoch: 83/100\n",
      "Training Loss: 0.7353\tValidation Loss: 0.7440\n",
      "\n",
      "Epoch: 84/100\n",
      "Training Loss: 0.7354\tValidation Loss: 0.7431\n",
      "Validation loss decreased from 0.743185 to 0.743073, saving model to ./autoencoder_best.pth\n",
      "\n",
      "Epoch: 85/100\n",
      "Training Loss: 0.7353\tValidation Loss: 0.7432\n",
      "\n",
      "Epoch: 86/100\n",
      "Training Loss: 0.7353\tValidation Loss: 0.7428\n",
      "Validation loss decreased from 0.743073 to 0.742751, saving model to ./autoencoder_best.pth\n",
      "\n",
      "Epoch: 87/100\n",
      "Training Loss: 0.7351\tValidation Loss: 0.7436\n",
      "\n",
      "Epoch: 88/100\n",
      "Training Loss: 0.7351\tValidation Loss: 0.7549\n",
      "\n",
      "Epoch: 89/100\n",
      "Training Loss: 0.7353\tValidation Loss: 0.7427\n",
      "Validation loss decreased from 0.742751 to 0.742672, saving model to ./autoencoder_best.pth\n",
      "\n",
      "Epoch: 90/100\n",
      "Training Loss: 0.7351\tValidation Loss: 0.7435\n",
      "\n",
      "Epoch: 91/100\n",
      "Training Loss: 0.7349\tValidation Loss: 0.7430\n",
      "\n",
      "Epoch: 92/100\n",
      "Training Loss: 0.7349\tValidation Loss: 0.7428\n",
      "\n",
      "Epoch: 93/100\n",
      "Training Loss: 0.7351\tValidation Loss: 0.7440\n",
      "\n",
      "Epoch: 94/100\n",
      "Training Loss: 0.7347\tValidation Loss: 0.7429\n",
      "\n",
      "Epoch: 95/100\n",
      "Training Loss: 0.7345\tValidation Loss: 0.7428\n",
      "\n",
      "Epoch: 96/100\n",
      "Training Loss: 0.7345\tValidation Loss: 0.7427\n",
      "Validation loss decreased from 0.742672 to 0.742664, saving model to ./autoencoder_best.pth\n",
      "\n",
      "Epoch: 97/100\n",
      "Training Loss: 0.7349\tValidation Loss: 0.7431\n",
      "\n",
      "Epoch: 98/100\n",
      "Training Loss: 0.7344\tValidation Loss: 0.7431\n",
      "\n",
      "Epoch: 99/100\n",
      "Training Loss: 0.7347\tValidation Loss: 0.7430\n",
      "\n",
      "Epoch: 100/100\n",
      "Training Loss: 0.7343\tValidation Loss: 0.7428\n",
      "CPU times: user 5min 46s, sys: 5.43 s, total: 5min 51s\n",
      "Wall time: 5min 52s\n"
     ]
    }
   ],
   "source": [
    "%%time\n",
    "\n",
    "LOG_INTERVAL = 1000\n",
    "PATH = './autoencoder_best.pth'\n",
    "Loss_min = float('inf')\n",
    "Loss_list = []\n",
    "\n",
    "train_losses = []\n",
    "def train(data_loader, optimizer, criterion, regulization=False, reg_multiplier=0.1):\n",
    "    autoencoder.train()\n",
    "    train_loss = 0\n",
    "    for batch_idx, (input_features, target) in enumerate(data_loader):\n",
    "        loss_list = []\n",
    "        input_features, target = input_features.to(device), target.to(device)\n",
    "        optimizer.zero_grad()\n",
    "        output = autoencoder(input_features.float())\n",
    "        \n",
    "        reg = 0\n",
    "        if regulization:\n",
    "            reg = reg_multiplier * sum([torch.norm(param, 1) for param in autoencoder.parameters()])\n",
    "            \n",
    "        loss = criterion(output, target.float()) + reg\n",
    "        loss.backward()\n",
    "        optimizer.step()\n",
    "        \n",
    "        train_loss += loss.item()\n",
    "        \n",
    "#         if batch_idx % LOG_INTERVAL == 0:\n",
    "#             print('Train Epoch: {} [{}/{} ({:.0f}%)]\\tLoss: {:.6f}'.format(\n",
    "#             epoch+1, batch_idx * len(input_features), len(data_loader.dataset),\n",
    "#             100. * batch_idx / len(data_loader), loss.data.item()))\n",
    "        \n",
    "    train_loss = train_loss * (data_loader.batch_size / len(data_loader.dataset))\n",
    "    print('\\nEpoch: {}/{}\\nTraining Loss: {:.4f}\\t'.format(epoch+1, NUM_EPOCHS, train_loss), end=\"\")\n",
    "    train_losses.append(train_loss)\n",
    "    \n",
    "    \n",
    "minLoss = float('inf')    \n",
    "val_losses = []    \n",
    "def validate(data_loader, criterion):\n",
    "    autoencoder.eval()\n",
    "    val_loss = 0\n",
    "    with torch.no_grad():\n",
    "        for batch_idx, (input_features, target) in enumerate(data_loader):\n",
    "            input_features, target = input_features.to(device), target.to(device)\n",
    "            output = autoencoder(input_features.float())\n",
    "            val_loss += criterion(output, target.float()).item()\n",
    "    val_loss = val_loss * (data_loader.batch_size / len(data_loader.dataset))\n",
    "    val_losses.append(val_loss)\n",
    "    print('Validation Loss: {:.4f}'.format(val_loss))\n",
    "    return val_loss\n",
    "    \n",
    "\n",
    "criterion = nn.MSELoss().to(device)\n",
    "optimizer = torch.optim.Adam(autoencoder.parameters())\n",
    "\n",
    "print('Train on {} samples, validate on {} samples'.format(len(training_data_loader.dataset), len(validation_data_loader.dataset),))\n",
    "for epoch in range(NUM_EPOCHS):\n",
    "    train(training_data_loader, optimizer, criterion)\n",
    "    val_loss = validate(validation_data_loader, criterion)\n",
    "    if val_loss < minLoss:\n",
    "        torch.save({\n",
    "            'model_state_dict': autoencoder.state_dict(),\n",
    "            'loss': val_loss,\n",
    "            }, PATH)\n",
    "        print('Validation loss decreased from {:5f} to {:5f}, saving model to {}'.format(minLoss, val_loss, PATH))\n",
    "        minLoss = val_loss"
   ]
  },
  {
   "cell_type": "code",
   "execution_count": 13,
   "metadata": {
    "colab": {
     "base_uri": "https://localhost:8080/",
     "height": 621
    },
    "colab_type": "code",
    "id": "EkJ1zPHhRmV0",
    "outputId": "b3514fc5-da42-4031-e003-9f77140d1350"
   },
   "outputs": [
    {
     "data": {
      "image/png": "[encoded data removed]",
      "text/plain": [
       "<Figure size 1080x720 with 1 Axes>"
      ]
     },
     "metadata": {
      "needs_background": "light"
     },
     "output_type": "display_data"
    }
   ],
   "source": [
    "fig, ax = plt.subplots(figsize=(15, 10))\n",
    "ax.plot(train_losses)\n",
    "ax.plot(val_losses)\n",
    "ax.legend(['train', 'val'])\n",
    "plt.title(\"training and validation loss\")\n",
    "plt.xlabel('epoch')\n",
    "plt.ylabel('loss')\n",
    "plt.show()"
   ]
  },
  {
   "cell_type": "code",
   "execution_count": 14,
   "metadata": {
    "colab": {},
    "colab_type": "code",
    "id": "nQZgEZTdRmV3"
   },
   "outputs": [
    {
     "data": {
      "text/plain": [
       "Autoencoder(\n",
       "  (encoder): Sequential(\n",
       "    (layer1): Linear(in_features=30, out_features=21, bias=True)\n",
       "    (relu1): ReLU()\n",
       "    (layer2): Linear(in_features=21, out_features=14, bias=True)\n",
       "    (relu2): ReLU()\n",
       "    (layer3): Linear(in_features=14, out_features=7, bias=True)\n",
       "    (relu3): ReLU()\n",
       "  )\n",
       "  (decoder): Sequential(\n",
       "    (layer1): Linear(in_features=7, out_features=14, bias=True)\n",
       "    (relu1): ReLU()\n",
       "    (layer2): Linear(in_features=14, out_features=21, bias=True)\n",
       "    (relu2): ReLU()\n",
       "    (layer3): Linear(in_features=21, out_features=30, bias=True)\n",
       "    (relu3): ReLU()\n",
       "  )\n",
       ")"
      ]
     },
     "execution_count": 14,
     "metadata": {},
     "output_type": "execute_result"
    }
   ],
   "source": [
    "checkpoint = torch.load(PATH)\n",
    "autoencoder.load_state_dict(checkpoint['model_state_dict'])\n",
    "loss_best = checkpoint['loss']\n",
    "\n",
    "autoencoder.eval()"
   ]
  },
  {
   "cell_type": "markdown",
   "metadata": {
    "colab_type": "text",
    "id": "s0WQPAFGrVUu"
   },
   "source": [
    "## Model Evaluation and Prediction"
   ]
  },
  {
   "cell_type": "code",
   "execution_count": 15,
   "metadata": {
    "colab": {
     "base_uri": "https://localhost:8080/",
     "height": 170
    },
    "colab_type": "code",
    "id": "uWrl5r-SRmV5",
    "outputId": "bff6bcb4-5248-468c-87a2-11ec286d69a1"
   },
   "outputs": [
    {
     "data": {
      "text/plain": [
       "count    57352.000000\n",
       "mean         0.966476\n",
       "std          5.068611\n",
       "min          0.045734\n",
       "25%          0.284156\n",
       "50%          0.431163\n",
       "75%          0.674149\n",
       "max        276.829383\n",
       "Name: Reconstruction_error, dtype: float64"
      ]
     },
     "execution_count": 15,
     "metadata": {},
     "output_type": "execute_result"
    }
   ],
   "source": [
    "autoencoder.eval()\n",
    "X_test_pred = autoencoder(torch.tensor(X_test).float().to(device))\n",
    "min_squared_error = np.mean(np.power(X_test - X_test_pred.cpu().detach().numpy(), 2), axis=1)\n",
    "df_error = pd.DataFrame({'True_class': y_test,\n",
    "                         'Reconstruction_error': min_squared_error})\n",
    "df_error.Reconstruction_error.describe()"
   ]
  },
  {
   "cell_type": "code",
   "execution_count": 16,
   "metadata": {
    "colab": {
     "base_uri": "https://localhost:8080/",
     "height": 621
    },
    "colab_type": "code",
    "id": "Aq2ABLReRmV8",
    "outputId": "8d405029-7348-4355-aa5d-419bb043ab8b"
   },
   "outputs": [
    {
     "data": {
      "image/png": "[encoded data removed]",
      "text/plain": [
       "<Figure size 1080x720 with 1 Axes>"
      ]
     },
     "metadata": {
      "needs_background": "light"
     },
     "output_type": "display_data"
    }
   ],
   "source": [
    "THRESHOLD = 4\n",
    "\n",
    "groups = df_error.groupby('True_class')\n",
    "\n",
    "fig, ax = plt.subplots(figsize=(15, 10))\n",
    "\n",
    "for name, group in groups:\n",
    "    ax.margins(x=0.01, y=0.01) \n",
    "    ax.plot(group.index, group.Reconstruction_error, marker='o', ms=3.5, linestyle='',\n",
    "            label= \"Fraud\" if name == 1 else \"Normal\")\n",
    "ax.hlines(THRESHOLD, ax.get_xlim()[0], ax.get_xlim()[1], colors=\"r\", zorder=3, label='Threshold')\n",
    "ax.legend()\n",
    "plt.title(\"Reconstruction error for different classes\")\n",
    "plt.ylabel(\"Reconstruction error\")\n",
    "plt.xlabel(\"Data point index\")\n",
    "plt.show();"
   ]
  },
  {
   "cell_type": "code",
   "execution_count": 17,
   "metadata": {
    "colab": {
     "base_uri": "https://localhost:8080/",
     "height": 621
    },
    "colab_type": "code",
    "id": "mxpjZxEGRmV_",
    "outputId": "4ae44ee1-c19d-4711-a3e1-6d1e368670ef"
   },
   "outputs": [
    {
     "data": {
      "image/png": "[encoded data removed]",
      "text/plain": [
       "<Figure size 720x720 with 2 Axes>"
      ]
     },
     "metadata": {
      "needs_background": "light"
     },
     "output_type": "display_data"
    }
   ],
   "source": [
    "LABELS = [\"Normal\",\"Fraud\"]\n",
    "\n",
    "y_pred = [1 if e > THRESHOLD else 0 for e in df_error.Reconstruction_error.values]\n",
    "conf_matrix = confusion_matrix(df_error.True_class, y_pred)\n",
    "\n",
    "plt.figure(figsize=(10, 10))\n",
    "sns.heatmap(conf_matrix, xticklabels=LABELS, yticklabels=LABELS, annot=True, fmt=\"d\");\n",
    "plt.title(\"Confusion matrix\")\n",
    "plt.ylabel('True class')\n",
    "plt.xlabel('Predicted class')\n",
    "plt.show()"
   ]
  },
  {
   "cell_type": "code",
   "execution_count": 18,
   "metadata": {
    "colab": {
     "base_uri": "https://localhost:8080/",
     "height": 170
    },
    "colab_type": "code",
    "id": "CG56XxG_RmWD",
    "outputId": "d95d289c-0678-4eac-9c10-1c661dc8586f"
   },
   "outputs": [
    {
     "data": {
      "text/plain": [
       "['              precision    recall  f1-score   support',\n",
       " '',\n",
       " '       fraud       1.00      0.98      0.99     56860',\n",
       " '      normal       0.29      0.78      0.42       492',\n",
       " '',\n",
       " '   micro avg       0.98      0.98      0.98     57352',\n",
       " '   macro avg       0.64      0.88      0.71     57352',\n",
       " 'weighted avg       0.99      0.98      0.99     57352',\n",
       " '']"
      ]
     },
     "execution_count": 18,
     "metadata": {},
     "output_type": "execute_result"
    }
   ],
   "source": [
    "classification_report(y_test, y_pred, target_names=['fraud', 'normal']).split('\\n')"
   ]
  },
  {
   "cell_type": "code",
   "execution_count": 19,
   "metadata": {
    "colab": {
     "base_uri": "https://localhost:8080/",
     "height": 404
    },
    "colab_type": "code",
    "id": "yrcHNp_Onp_y",
    "outputId": "c238054e-3761-4e7b-be08-f2e342bf0d09"
   },
   "outputs": [
    {
     "data": {
      "image/png": "[encoded data removed]",
      "text/plain": [
       "<Figure size 720x432 with 1 Axes>"
      ]
     },
     "metadata": {
      "needs_background": "light"
     },
     "output_type": "display_data"
    }
   ],
   "source": [
    "fpr, tpr, thresholds = roc_curve(df_error.True_class, df_error.Reconstruction_error)\n",
    "roc_auc = auc(fpr, tpr)\n",
    "\n",
    "plt.figure(figsize=(10, 6))\n",
    "plt.plot(fpr, tpr, linewidth=2, label='AUC = %0.3f'% roc_auc)\n",
    "plt.plot([0,1],[0,1], linewidth=2)\n",
    "\n",
    "plt.xlim([-0.01, 1])\n",
    "plt.ylim([0, 1.01])\n",
    "plt.legend(loc='lower right')\n",
    "plt.title('Receiver operating characteristic curve (ROC)')\n",
    "plt.ylabel('True Positive Rate')\n",
    "plt.xlabel('False Positive Rate')\n",
    "plt.show()"
   ]
  },
  {
   "cell_type": "code",
   "execution_count": 20,
   "metadata": {
    "colab": {
     "base_uri": "https://localhost:8080/",
     "height": 404
    },
    "colab_type": "code",
    "id": "likTEbiy0dku",
    "outputId": "69cbb9e2-cb4b-400e-c1d9-7e20016f1826"
   },
   "outputs": [
    {
     "data": {
      "image/png": "[encoded data removed]",
      "text/plain": [
       "<Figure size 720x432 with 1 Axes>"
      ]
     },
     "metadata": {
      "needs_background": "light"
     },
     "output_type": "display_data"
    }
   ],
   "source": [
    "precision, recall, threshold = precision_recall_curve(df_error.True_class, df_error.Reconstruction_error)\n",
    "\n",
    "plt.figure(figsize=(10, 6))\n",
    "plt.plot(recall, precision, linewidth=2, label='Precision-Recall curve')\n",
    "plt.title('Recall vs Precision')\n",
    "plt.xlabel('Recall')\n",
    "plt.ylabel('Precision')\n",
    "plt.show()"
   ]
  },
  {
   "cell_type": "code",
   "execution_count": 21,
   "metadata": {
    "colab": {
     "base_uri": "https://localhost:8080/",
     "height": 404
    },
    "colab_type": "code",
    "id": "kZR5X9RV0zZI",
    "outputId": "ad5771bc-a1eb-4dac-a690-dd716727279e"
   },
   "outputs": [
    {
     "name": "stderr",
     "output_type": "stream",
     "text": [
      "/anaconda3/lib/python3.6/site-packages/ipykernel_launcher.py:1: RuntimeWarning: divide by zero encountered in true_divide\n",
      "  \"\"\"Entry point for launching an IPython kernel.\n"
     ]
    },
    {
     "data": {
      "image/png": "[encoded data removed]",
      "text/plain": [
       "<Figure size 720x432 with 1 Axes>"
      ]
     },
     "metadata": {
      "needs_background": "light"
     },
     "output_type": "display_data"
    }
   ],
   "source": [
    "f1 = 1/((1/precision[1:] + 1/recall[1:])/2)\n",
    "\n",
    "plt.figure(figsize=(10, 6))\n",
    "plt.plot(threshold, precision[1:], label=\"Precision\",linewidth=2)\n",
    "plt.plot(threshold, recall[1:], label=\"Recall\",linewidth=2)\n",
    "plt.plot(threshold, f1, label=\"F1-score\",linewidth=2)\n",
    "plt.title('Precision and recall for different threshold values')\n",
    "plt.xlabel('Threshold')\n",
    "plt.ylabel('Precision/Recall')\n",
    "plt.legend()\n",
    "plt.show()"
   ]
  },
  {
   "cell_type": "code",
   "execution_count": null,
   "metadata": {
    "colab": {},
    "colab_type": "code",
    "id": "y6By2poN4GeZ"
   },
   "outputs": [],
   "source": []
  }
 ],
 "metadata": {
  "accelerator": "GPU",
  "colab": {
   "collapsed_sections": [],
   "name": "credit_card_fraud_detection.ipynb",
   "provenance": [],
   "toc_visible": true,
   "version": "0.3.2"
  },
  "kernelspec": {
   "display_name": "Python 3",
   "language": "python",
   "name": "python3"
  },
  "language_info": {
   "codemirror_mode": {
    "name": "ipython",
    "version": 3
   },
   "file_extension": ".py",
   "mimetype": "text/x-python",
   "name": "python",
   "nbconvert_exporter": "python",
   "pygments_lexer": "ipython3",
   "version": "3.6.8"
  }
 },
 "nbformat": 4,
 "nbformat_minor": 2
}
